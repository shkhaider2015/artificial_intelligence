{
 "cells": [
  {
   "cell_type": "code",
   "execution_count": 1,
   "metadata": {},
   "outputs": [
    {
     "name": "stdout",
     "output_type": "stream",
     "text": [
      "Biryani != Polaow\n"
     ]
    }
   ],
   "source": [
    "import chapter15"
   ]
  },
  {
   "cell_type": "code",
   "execution_count": 2,
   "metadata": {},
   "outputs": [
    {
     "name": "stdout",
     "output_type": "stream",
     "text": [
      "['karachi', 'Miltan', 'Faisalabad']\n",
      "After append(Mardan)  \n",
      "['karachi', 'Miltan', 'Faisalabad', 'Mardan']\n",
      "After insert(0, Peshawar)\n",
      "['Peshawar', 'karachi', 'Miltan', 'Faisalabad', 'Mardan']\n"
     ]
    }
   ],
   "source": [
    "import chapter16"
   ]
  },
  {
   "cell_type": "code",
   "execution_count": 3,
   "metadata": {},
   "outputs": [
    {
     "name": "stdout",
     "output_type": "stream",
     "text": [
      "['Ronaldo', 'Drogba', 'Lempard', 'Messi', 'Isco', 'Hazard']\n",
      "Best Players Are :\n",
      "['Drogba', 'Lempard', 'Messi']\n"
     ]
    }
   ],
   "source": [
    "import chapter17"
   ]
  },
  {
   "cell_type": "code",
   "execution_count": 4,
   "metadata": {},
   "outputs": [
    {
     "name": "stdout",
     "output_type": "stream",
     "text": [
      "['Messi', 'Suarez', 'Coutinho', 'Dembele', 'Pique']\n",
      "['Messi', 'Suarez', 'Coutinho', 'Dembele']\n",
      "['Messi', 'Suarez', 'Coutinho']\n"
     ]
    }
   ],
   "source": [
    "import chapter18"
   ]
  },
  {
   "cell_type": "code",
   "execution_count": 6,
   "metadata": {},
   "outputs": [
    {
     "name": "stdout",
     "output_type": "stream",
     "text": [
      "['Messi', 'Suarez', 'Coutinho', 'Dembele', 'Pique']\n",
      "Attackers are :\n",
      "['Messi', 'Suarez', 'Coutinho', 'Dembele']\n"
     ]
    }
   ],
   "source": [
    "import chapter19"
   ]
  },
  {
   "cell_type": "code",
   "execution_count": 7,
   "metadata": {},
   "outputs": [
    {
     "name": "stdout",
     "output_type": "stream",
     "text": [
      "('Karachi', 'Lahore', 'Islamabad', 'Faislabad')\n",
      "City Name:Karachi\n",
      "City Name:Lahore\n",
      "City Name:Islamabad\n",
      "City Name:Faislabad\n"
     ]
    }
   ],
   "source": [
    "import chapter20"
   ]
  },
  {
   "cell_type": "code",
   "execution_count": 1,
   "metadata": {},
   "outputs": [],
   "source": [
    "import chapter21"
   ]
  },
  {
   "cell_type": "code",
   "execution_count": 6,
   "metadata": {},
   "outputs": [],
   "source": [
    "import chapter21"
   ]
  },
  {
   "cell_type": "code",
   "execution_count": 7,
   "metadata": {},
   "outputs": [
    {
     "name": "stdout",
     "output_type": "stream",
     "text": [
      "1 2 3 4 5 6 7 8 9 \n",
      "2 4 6 8 10 12 14 16 18 \n",
      "3 6 9 12 15 18 21 24 27 \n",
      "4 8 12 16 20 24 28 32 36 \n",
      "5 10 15 20 25 30 35 40 45 \n",
      "6 12 18 24 30 36 42 48 54 \n",
      "7 14 21 28 35 42 49 56 63 \n",
      "8 16 24 32 40 48 56 64 72 \n",
      "9 18 27 36 45 54 63 72 81 \n"
     ]
    }
   ],
   "source": [
    "import chapter22"
   ]
  },
  {
   "cell_type": "code",
   "execution_count": 13,
   "metadata": {},
   "outputs": [],
   "source": [
    "import chapter25"
   ]
  },
  {
   "cell_type": "code",
   "execution_count": 14,
   "metadata": {},
   "outputs": [
    {
     "name": "stdout",
     "output_type": "stream",
     "text": [
      "ID for Usama is 1735-2015\n",
      "Shakeel 1735-2015\n",
      "Usman 2370-2015\n",
      "Sohail 1432-2015\n"
     ]
    }
   ],
   "source": [
    "import chapter27"
   ]
  },
  {
   "cell_type": "code",
   "execution_count": 19,
   "metadata": {},
   "outputs": [
    {
     "name": "stdout",
     "output_type": "stream",
     "text": [
      "{'name': 'Messi', 'age': 32, 'goals': 800, 'cap': 700}\n",
      "{'name': 'Messi', 'age': 33, 'goals': 800, 'cap': 700}\n",
      "{'name': 'Messi', 'age': 33, 'goals': 812, 'cap': 700}\n"
     ]
    }
   ],
   "source": [
    "import chapter30"
   ]
  },
  {
   "cell_type": "code",
   "execution_count": 24,
   "metadata": {},
   "outputs": [
    {
     "name": "stdout",
     "output_type": "stream",
     "text": [
      "{'name': 'Messi', 'age': 32, 'goals': 800, 'cap': 700}\n",
      "name Messi\n",
      "age 32\n",
      "goals 800\n",
      "cap 700\n"
     ]
    }
   ],
   "source": [
    "import chapter33"
   ]
  },
  {
   "cell_type": "code",
   "execution_count": 26,
   "metadata": {},
   "outputs": [],
   "source": [
    "import chapter34"
   ]
  },
  {
   "cell_type": "code",
   "execution_count": 32,
   "metadata": {},
   "outputs": [
    {
     "name": "stdout",
     "output_type": "stream",
     "text": [
      "{'First name': 'Shakeel', 'Middle name': 'Haider', 'Last name': 'Mashwani', 'Address': 'S.I.T.E Town'}\n",
      "{'First Name': 'Bilal', 'Middle name': 'Khan', 'Last Name': 'Mashwani', 'Address': 'Mardan'}\n",
      "{'First Name': 'Yasir', 'Middle name': 'Shah', 'Last Name': 'Ahmad Zai', 'Address': 'Karachi'}\n"
     ]
    }
   ],
   "source": [
    "import chapter40"
   ]
  },
  {
   "cell_type": "code",
   "execution_count": 3,
   "metadata": {},
   "outputs": [
    {
     "name": "stdout",
     "output_type": "stream",
     "text": [
      "0\n",
      "8\n"
     ]
    }
   ],
   "source": [
    "import chapter43"
   ]
  },
  {
   "cell_type": "code",
   "execution_count": 6,
   "metadata": {},
   "outputs": [
    {
     "ename": "SyntaxError",
     "evalue": "invalid syntax (chapter45.py, line 4)",
     "output_type": "error",
     "traceback": [
      "Traceback \u001b[1;36m(most recent call last)\u001b[0m:\n",
      "  File \u001b[0;32m\"C:\\Users\\shkha\\Anaconda3\\lib\\site-packages\\IPython\\core\\interactiveshell.py\"\u001b[0m, line \u001b[0;32m2963\u001b[0m, in \u001b[0;35mrun_code\u001b[0m\n    exec(code_obj, self.user_global_ns, self.user_ns)\n",
      "\u001b[1;36m  File \u001b[1;32m\"<ipython-input-6-f78803d829cb>\"\u001b[1;36m, line \u001b[1;32m1\u001b[1;36m, in \u001b[1;35m<module>\u001b[1;36m\u001b[0m\n\u001b[1;33m    import chapter45\u001b[0m\n",
      "\u001b[1;36m  File \u001b[1;32m\"C:\\Users\\shkha\\Artificial Intelligence\\artificial_intelligence\\Task1\\chapter45.py\"\u001b[1;36m, line \u001b[1;32m4\u001b[0m\n\u001b[1;33m    else:\u001b[0m\n\u001b[1;37m       ^\u001b[0m\n\u001b[1;31mSyntaxError\u001b[0m\u001b[1;31m:\u001b[0m invalid syntax\n"
     ]
    }
   ],
   "source": [
    "import chapter45"
   ]
  },
  {
   "cell_type": "code",
   "execution_count": 14,
   "metadata": {},
   "outputs": [
    {
     "name": "stdout",
     "output_type": "stream",
     "text": [
      "The winner was Barcelona\n",
      "The score was 6-0\n"
     ]
    }
   ],
   "source": [
    "import chapter46"
   ]
  },
  {
   "cell_type": "code",
   "execution_count": 12,
   "metadata": {},
   "outputs": [],
   "source": [
    "import chapter47"
   ]
  },
  {
   "cell_type": "code",
   "execution_count": 13,
   "metadata": {},
   "outputs": [],
   "source": [
    "import chapter47"
   ]
  },
  {
   "cell_type": "code",
   "execution_count": 14,
   "metadata": {},
   "outputs": [],
   "source": [
    "import chapter47"
   ]
  },
  {
   "cell_type": "code",
   "execution_count": 15,
   "metadata": {},
   "outputs": [],
   "source": [
    "import chapter47"
   ]
  },
  {
   "cell_type": "code",
   "execution_count": null,
   "metadata": {},
   "outputs": [],
   "source": []
  },
  {
   "cell_type": "code",
   "execution_count": null,
   "metadata": {},
   "outputs": [],
   "source": []
  }
 ],
 "metadata": {
  "kernelspec": {
   "display_name": "Python 3",
   "language": "python",
   "name": "python3"
  },
  "language_info": {
   "codemirror_mode": {
    "name": "ipython",
    "version": 3
   },
   "file_extension": ".py",
   "mimetype": "text/x-python",
   "name": "python",
   "nbconvert_exporter": "python",
   "pygments_lexer": "ipython3",
   "version": "3.6.5"
  }
 },
 "nbformat": 4,
 "nbformat_minor": 2
}
